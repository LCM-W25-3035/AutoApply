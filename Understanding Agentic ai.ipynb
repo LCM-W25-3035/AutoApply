{
 "cells": [
  {
   "cell_type": "code",
   "execution_count": null,
   "metadata": {},
   "outputs": [
    {
     "name": "stdout",
     "output_type": "stream",
     "text": [
      "Agent 1 is performing: Communicate\n",
      "Agent 2 is performing: Communicate\n",
      "Agent 3 is performing: Communicate\n"
     ]
    }
   ],
   "source": [
    "# First : code to understand Multi-Agent Systems (MAS) Example\n",
    "#last : code to understand Goal-Oriented Modular Architecture Example\n",
    "import random\n",
    "\n",
    "class Agent:\n",
    "    def __init__(self, name):\n",
    "        self.name = name\n",
    "\n",
    "    def perform_task(self):\n",
    "        task = random.choice([\"Analyze data\", \"Communicate\", \"Move\"])\n",
    "        print(f\"{self.name} is performing: {task}\")\n",
    "\n",
    "# Creating multiple agents\n",
    "agents = [Agent(\"Agent 1\"), Agent(\"Agent 2\"), Agent(\"Agent 3\")]\n",
    "\n",
    "# Simulating agent collaboration\n",
    "for agent in agents:\n",
    "    agent.perform_task()\n"
   ]
  },
  {
   "cell_type": "code",
   "execution_count": 2,
   "metadata": {},
   "outputs": [
    {
     "name": "stdout",
     "output_type": "stream",
     "text": [
      "Executing: Collect data\n"
     ]
    }
   ],
   "source": [
    "class HighLevelAgent:\n",
    "    def assign_task(self):\n",
    "        tasks = [\"Collect data\", \"Sort items\", \"Deliver package\"]\n",
    "        return random.choice(tasks)\n",
    "\n",
    "class LowLevelAgent:\n",
    "    def execute_task(self, task):\n",
    "        print(f\"Executing: {task}\")\n",
    "\n",
    "# Creating agents\n",
    "high_agent = HighLevelAgent()\n",
    "low_agent = LowLevelAgent()\n",
    "\n",
    "# Assigning and executing a task\n",
    "task = high_agent.assign_task()\n",
    "low_agent.execute_task(task)\n"
   ]
  },
  {
   "cell_type": "code",
   "execution_count": 5,
   "metadata": {},
   "outputs": [
    {
     "name": "stdout",
     "output_type": "stream",
     "text": [
      "Processing input: Hello AI!\n",
      "AI Output: Respond with greeting\n"
     ]
    }
   ],
   "source": [
    "class InputModule:\n",
    "    def process_input(self, data):\n",
    "        print(f\"Processing input: {data}\")\n",
    "        return data.lower()\n",
    "\n",
    "class DecisionModule:\n",
    "    def make_decision(self, processed_data):\n",
    "        if \"hello\" in processed_data:\n",
    "            return \"Respond with greeting\"\n",
    "        else:\n",
    "            return \"Unknown request\"\n",
    "\n",
    "class OutputModule:\n",
    "    def generate_output(self, decision):\n",
    "        print(f\"AI Output: {decision}\")\n",
    "\n",
    "# Using modular AI design\n",
    "input_mod = InputModule()\n",
    "decision_mod = DecisionModule()\n",
    "output_mod = OutputModule()\n",
    "\n",
    "# AI Pipeline\n",
    "data = \"Hello AI!\"\n",
    "processed = input_mod.process_input(data)\n",
    "decision = decision_mod.make_decision(processed)\n",
    "output_mod.generate_output(decision)\n"
   ]
  }
 ],
 "metadata": {
  "kernelspec": {
   "display_name": "Python 3",
   "language": "python",
   "name": "python3"
  },
  "language_info": {
   "codemirror_mode": {
    "name": "ipython",
    "version": 3
   },
   "file_extension": ".py",
   "mimetype": "text/x-python",
   "name": "python",
   "nbconvert_exporter": "python",
   "pygments_lexer": "ipython3",
   "version": "3.11.8"
  }
 },
 "nbformat": 4,
 "nbformat_minor": 2
}

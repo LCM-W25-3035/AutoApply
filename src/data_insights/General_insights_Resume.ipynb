{
 "cells": [
  {
   "cell_type": "code",
   "execution_count": 2,
   "metadata": {},
   "outputs": [],
   "source": [
    "import pandas as pd\n",
    "\n",
    "# Load Database from CSV\n",
    "file_path = 'data/UpdatedResumeDataSet.csv'\n",
    "resume_data = pd.read_csv(file_path)"
   ]
  },
  {
   "cell_type": "code",
   "execution_count": 3,
   "metadata": {},
   "outputs": [
    {
     "data": {
      "text/html": [
       "<div>\n",
       "<style scoped>\n",
       "    .dataframe tbody tr th:only-of-type {\n",
       "        vertical-align: middle;\n",
       "    }\n",
       "\n",
       "    .dataframe tbody tr th {\n",
       "        vertical-align: top;\n",
       "    }\n",
       "\n",
       "    .dataframe thead th {\n",
       "        text-align: right;\n",
       "    }\n",
       "</style>\n",
       "<table border=\"1\" class=\"dataframe\">\n",
       "  <thead>\n",
       "    <tr style=\"text-align: right;\">\n",
       "      <th></th>\n",
       "      <th>Category</th>\n",
       "      <th>Resume</th>\n",
       "    </tr>\n",
       "  </thead>\n",
       "  <tbody>\n",
       "    <tr>\n",
       "      <th>0</th>\n",
       "      <td>Data Science</td>\n",
       "      <td>Skills * Programming Languages: Python (pandas...</td>\n",
       "    </tr>\n",
       "    <tr>\n",
       "      <th>1</th>\n",
       "      <td>Data Science</td>\n",
       "      <td>Education Details \\r\\nMay 2013 to May 2017 B.E...</td>\n",
       "    </tr>\n",
       "    <tr>\n",
       "      <th>2</th>\n",
       "      <td>Data Science</td>\n",
       "      <td>Areas of Interest Deep Learning, Control Syste...</td>\n",
       "    </tr>\n",
       "    <tr>\n",
       "      <th>3</th>\n",
       "      <td>Data Science</td>\n",
       "      <td>Skills â¢ R â¢ Python â¢ SAP HANA â¢ Table...</td>\n",
       "    </tr>\n",
       "    <tr>\n",
       "      <th>4</th>\n",
       "      <td>Data Science</td>\n",
       "      <td>Education Details \\r\\n MCA   YMCAUST,  Faridab...</td>\n",
       "    </tr>\n",
       "    <tr>\n",
       "      <th>...</th>\n",
       "      <td>...</td>\n",
       "      <td>...</td>\n",
       "    </tr>\n",
       "    <tr>\n",
       "      <th>186</th>\n",
       "      <td>Hadoop</td>\n",
       "      <td>â¢ Operating systems:-Linux- Ubuntu, Windows ...</td>\n",
       "    </tr>\n",
       "    <tr>\n",
       "      <th>187</th>\n",
       "      <td>Hadoop</td>\n",
       "      <td>Areas of expertise â¢ Big Data Ecosystems: Ha...</td>\n",
       "    </tr>\n",
       "    <tr>\n",
       "      <th>188</th>\n",
       "      <td>Hadoop</td>\n",
       "      <td>Technical Skill Set: Programming Languages Apa...</td>\n",
       "    </tr>\n",
       "    <tr>\n",
       "      <th>189</th>\n",
       "      <td>Hadoop</td>\n",
       "      <td>Technical Skills Programming Languages: C, C++...</td>\n",
       "    </tr>\n",
       "    <tr>\n",
       "      <th>190</th>\n",
       "      <td>Hadoop</td>\n",
       "      <td>Technical Skill Set Big Data Ecosystems: Hadoo...</td>\n",
       "    </tr>\n",
       "  </tbody>\n",
       "</table>\n",
       "<p>191 rows × 2 columns</p>\n",
       "</div>"
      ],
      "text/plain": [
       "         Category                                             Resume\n",
       "0    Data Science  Skills * Programming Languages: Python (pandas...\n",
       "1    Data Science  Education Details \\r\\nMay 2013 to May 2017 B.E...\n",
       "2    Data Science  Areas of Interest Deep Learning, Control Syste...\n",
       "3    Data Science  Skills â¢ R â¢ Python â¢ SAP HANA â¢ Table...\n",
       "4    Data Science  Education Details \\r\\n MCA   YMCAUST,  Faridab...\n",
       "..            ...                                                ...\n",
       "186        Hadoop  â¢ Operating systems:-Linux- Ubuntu, Windows ...\n",
       "187        Hadoop  Areas of expertise â¢ Big Data Ecosystems: Ha...\n",
       "188        Hadoop  Technical Skill Set: Programming Languages Apa...\n",
       "189        Hadoop  Technical Skills Programming Languages: C, C++...\n",
       "190        Hadoop  Technical Skill Set Big Data Ecosystems: Hadoo...\n",
       "\n",
       "[191 rows x 2 columns]"
      ]
     },
     "execution_count": 3,
     "metadata": {},
     "output_type": "execute_result"
    }
   ],
   "source": [
    "resume_data"
   ]
  },
  {
   "cell_type": "code",
   "execution_count": 4,
   "metadata": {},
   "outputs": [
    {
     "name": "stdout",
     "output_type": "stream",
     "text": [
      "Has Summary\n",
      "No     187\n",
      "Yes      4\n",
      "Name: count, dtype: int64\n"
     ]
    }
   ],
   "source": [
    "#SUMMARY SECTION\n",
    "import re\n",
    "# Function to detect if a resume has a section called \"summary\"\n",
    "def has_summary_section(resume_text):\n",
    "    pattern = r\"\\bsummary\\b\"  # Search for the word \"summary\" as a section\n",
    "    return \"Yes\" if re.search(pattern, str(resume_text), re.IGNORECASE) else \"No\"\n",
    "\n",
    "# Applying the function to resumes\n",
    "resume_data['Has Summary'] = resume_data['Resume'].apply(has_summary_section)\n",
    "\n",
    "# Count how many resumes have a summary section\n",
    "summary_count = resume_data['Has Summary'].value_counts()\n",
    "\n",
    "print(summary_count)"
   ]
  },
  {
   "cell_type": "code",
   "execution_count": 9,
   "metadata": {},
   "outputs": [
    {
     "name": "stdout",
     "output_type": "stream",
     "text": [
      "Has Skill\n",
      "Yes    191\n",
      "Name: count, dtype: int64\n"
     ]
    }
   ],
   "source": [
    "#SKILL SECTION\n",
    "import re\n",
    "# Function to detect if a resume has a section called \"skill\"\n",
    "def has_skill_section(resume_text):\n",
    "    pattern = r\"\\bskill\\b\"  # Search for the word \"skill\" as a section\n",
    "    return \"Yes\" if re.search(pattern, str(resume_text), re.IGNORECASE) else \"No\"\n",
    "\n",
    "# Applying the function to resumes\n",
    "resume_data['Has Skill'] = resume_data['Resume'].apply(has_skill_section)\n",
    "\n",
    "# Count how many resumes have a skill section\n",
    "summary_count2 = resume_data['Has Skill'].value_counts()\n",
    "\n",
    "print(summary_count2)"
   ]
  },
  {
   "cell_type": "code",
   "execution_count": 7,
   "metadata": {},
   "outputs": [
    {
     "name": "stdout",
     "output_type": "stream",
     "text": [
      "Number of resumes containing soft skills: 58\n",
      "Number of resumes containing technical skills: 180\n"
     ]
    }
   ],
   "source": [
    "#Soft Skills vs Technical Skills\n",
    "# Defining keywords for soft and technical skills\n",
    "soft_skills_keywords = [\n",
    "    \"communication\", \"leadership\", \"teamwork\", \"collaboration\", \"adaptability\", \"persuasion\",\"positive attitude\",\"self-motivation\",\n",
    "    \"problem-solving\", \"active listening\",\"flexibility\",\"patience\",\"emotional intelligence\",\"time management\", \"creativity\", \"empathy\", \n",
    "    \"negotiation\",\"critical thinking\", \"decision-making\",\"stress management\",\"trustworhiness\",\"attention to detail\",\"enthusiasm\", \"initiative\",\n",
    "    \n",
    "]\n",
    "technical_skills_keywords = [\n",
    "    \"python\", \"java\", \"sql\", \"aws\", \"docker\", \"kubernetes\", \"javascript\", \"react\",\n",
    "    \"angular\", \"c++\", \"r\", \"tableau\", \"power bi\", \"data analysis\", \"machine learning\",\n",
    "    \"deep learning\", \"django\", \"html\", \"css\", \"matlab\"\n",
    "]\n",
    "# Function to check if a resume contains any keywords from a category\n",
    "def contains_keywords(resume_text, keywords):\n",
    "    resume_text = str(resume_text).lower()  # Convert text to lowercase\n",
    "    for keyword in keywords:\n",
    "        if re.search(rf\"\\b{keyword}\\b\", resume_text):\n",
    "            return True\n",
    "    return False\n",
    "\n",
    "# Check for soft skills and technical skills in each resume\n",
    "resume_data['Contains Soft Skills'] = resume_data['Resume'].apply(lambda x: contains_keywords(x, soft_skills_keywords))\n",
    "resume_data['Contains Technical Skills'] = resume_data['Resume'].apply(lambda x: contains_keywords(x, technical_skills_keywords))\n",
    "\n",
    "# Count resumes with soft skills and technical skills\n",
    "soft_skills_count = resume_data['Contains Soft Skills'].sum()\n",
    "technical_skills_count = resume_data['Contains Technical Skills'].sum()\n",
    "print(f\"Number of resumes containing soft skills: {soft_skills_count}\")\n",
    "print(f\"Number of resumes containing technical skills: {technical_skills_count}\")"
   ]
  },
  {
   "cell_type": "code",
   "execution_count": 8,
   "metadata": {},
   "outputs": [
    {
     "name": "stdout",
     "output_type": "stream",
     "text": [
      "Number of resumes describing skills with action verbs: 108\n"
     ]
    }
   ],
   "source": [
    "#Actions verbs\n",
    "# List of common action verbs\n",
    "action_verbs = [\n",
    "    \"developed\", \"managed\", \"led\", \"analyzed\", \"designed\", \"implemented\", \"collaborated\", \"built\",\n",
    "    \"optimized\", \"created\", \"conducted\", \"improved\", \"streamlined\", \"oversaw\", \"executed\",\n",
    "    \"evaluated\", \"mentored\", \"produced\"\n",
    "]\n",
    "\n",
    "# Function to check if a resume contains any keywords from a category\n",
    "def contains_keywords(resume_text, keywords):\n",
    "    resume_text = str(resume_text).lower()\n",
    "    for keyword in keywords:\n",
    "        if re.search(rf\"\\b{keyword}\\b\", resume_text):\n",
    "            return True\n",
    "    return False\n",
    "\n",
    "# Function to check if skills are described using action verbs\n",
    "def contains_action_verbs(resume_text):\n",
    "    resume_text = str(resume_text).lower()\n",
    "    for verb in action_verbs:\n",
    "        if re.search(rf\"\\b{verb}\\b\", resume_text):\n",
    "            return True\n",
    "    return False\n",
    "\n",
    "resume_data['Skills with Action Verbs'] = resume_data['Resume'].apply(contains_action_verbs)\n",
    "action_verbs_count = resume_data['Skills with Action Verbs'].sum()\n",
    "print(f\"Number of resumes describing skills with action verbs: {action_verbs_count}\")"
   ]
  },
  {
   "cell_type": "code",
   "execution_count": 11,
   "metadata": {},
   "outputs": [
    {
     "name": "stdout",
     "output_type": "stream",
     "text": [
      "Number of resumes mentioning years of experience: 83\n"
     ]
    }
   ],
   "source": [
    "# Years of exeperienced\n",
    "\n",
    "# Function to detect mentions of years of experience\n",
    "def contains_experience_years(resume_text):\n",
    "    pattern = r\"(\\d+)\\s*(\\+|-)?\\s*(year|years)\\s*(of experience|career|experience)?\"\n",
    "    matches = re.findall(pattern, str(resume_text).lower())  # Finding patterns in your resume text\n",
    "    return True if matches else False\n",
    "\n",
    "# Apply the function to detect experience in resumes\n",
    "resume_data['Contains Experience Years'] = resume_data['Resume'].apply(contains_experience_years)\n",
    "\n",
    "# Count how many resumes mention years of experience\n",
    "experience_count = resume_data['Contains Experience Years'].sum()\n",
    "print(f\"Number of resumes mentioning years of experience: {experience_count}\")"
   ]
  },
  {
   "cell_type": "code",
   "execution_count": 13,
   "metadata": {},
   "outputs": [
    {
     "name": "stdout",
     "output_type": "stream",
     "text": [
      "Number of resumes mentioning education: 160\n"
     ]
    }
   ],
   "source": [
    "# Education\n",
    "# List of keywords for education\n",
    "education_keywords = [\n",
    "    \"bachelor's\", \"master's\", \"phd\", \"mba\", \"b.tech\", \"m.tech\", \"high school\",\n",
    "    \"university\", \"college\", \"institute\", \"degree\", \"graduation\", \"post-graduate\",\n",
    "    \"undergraduate\", \"secondary education\",  \"diploma\", \"doctorate\"\n",
    "]\n",
    "\n",
    "# Function to detect educational mentions\n",
    "def contains_education(resume_text):\n",
    "    resume_text = str(resume_text).lower()\n",
    "    for keyword in education_keywords:\n",
    "        if re.search(rf\"\\b{keyword}\\b\", resume_text):\n",
    "            return True\n",
    "    return False\n",
    "\n",
    "# Apply the function to analyze education in resumes\n",
    "resume_data['Contains Education'] = resume_data['Resume'].apply(contains_education)\n",
    "\n",
    "# Count how many resumes mention education\n",
    "education_count = resume_data['Contains Education'].sum()\n",
    "print(f\"Number of resumes mentioning education: {education_count}\")"
   ]
  }
 ],
 "metadata": {
  "kernelspec": {
   "display_name": "Python 3",
   "language": "python",
   "name": "python3"
  },
  "language_info": {
   "codemirror_mode": {
    "name": "ipython",
    "version": 3
   },
   "file_extension": ".py",
   "mimetype": "text/x-python",
   "name": "python",
   "nbconvert_exporter": "python",
   "pygments_lexer": "ipython3",
   "version": "3.11.5"
  }
 },
 "nbformat": 4,
 "nbformat_minor": 2
}

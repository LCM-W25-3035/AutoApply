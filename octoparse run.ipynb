{
 "cells": [
  {
   "cell_type": "code",
   "execution_count": null,
   "metadata": {},
   "outputs": [],
   "source": [
    "#call the Octoparse via python- prompt first"
   ]
  },
  {
   "cell_type": "code",
   "execution_count": 2,
   "metadata": {},
   "outputs": [
    {
     "name": "stdout",
     "output_type": "stream",
     "text": [
      "Raw Response: {\"error\":\"unsupported_grant_type\"}\n"
     ]
    }
   ],
   "source": [
    "import requests\n",
    "\n",
    "# Define your credentials\n",
    "username = \"kanwarvirk789@gmail.com\" \n",
    "password = \"Jashan.99\"\n",
    "\n",
    "# Prepare the payload\n",
    "auth_payload = {\n",
    "    \"username\": username,\n",
    "    \"password\": password\n",
    "}\n",
    "\n",
    "# Define the URL\n",
    "auth_url = \"https://dataapi.octoparse.com/token\"\n",
    "\n",
    "# Make the POST request\n",
    "auth_response = requests.post(auth_url, json=auth_payload)\n",
    "\n",
    "# Print full response to debug\n",
    "print(\"Raw Response:\", auth_response.text)\n"
   ]
  },
  {
   "cell_type": "code",
   "execution_count": 5,
   "metadata": {},
   "outputs": [
    {
     "name": "stdout",
     "output_type": "stream",
     "text": [
      "Raw Response: {\"access_token\":\"eyJhbGciOiJSUzI1NiIsImtpZCI6ImdXS3hWc0F4SHhaMDlDcWh6NkNJb3ciLCJ0eXAiOiJhdCtqd3QifQ.eyJuYmYiOjE3NDM0NjA0MjgsImV4cCI6MTc0MzU0NjgyOCwiaXNzIjoiaHR0cHM6Ly9pZGVudGl0eS5vY3RvcGFyc2UuY29tIiwiY2xpZW50X2lkIjoiT3BlbkFwaSIsInN1YiI6IjhhNzFiNmNiLWU0NjEtNGU2MC05NDY4LWI4YjQ0YjFmNzdmZSIsImF1dGhfdGltZSI6MTc0MzQ2MDQyOCwiaWRwIjoibG9jYWwiLCJodHRwOi8vc2NoZW1hcy54bWxzb2FwLm9yZy93cy8yMDA1LzA1L2lkZW50aXR5L2NsYWltcy9uYW1laWRlbnRpZmllciI6IjhhNzFiNmNiLWU0NjEtNGU2MC05NDY4LWI4YjQ0YjFmNzdmZSIsImh0dHA6Ly9zY2hlbWFzLnhtbHNvYXAub3JnL3dzLzIwMDUvMDUvaWRlbnRpdHkvY2xhaW1zL25hbWUiOiJLYW53YXJqZWV0IiwicHJlZmVycmVkX3VzZXJuYW1lIjoiS2Fud2FyamVldCIsInVuaXF1ZV9uYW1lIjoiS2Fud2FyamVldCIsInJlZ2lzdGVyX2RhdGUiOiIyMDI1LTAzLTMwVDE2OjI0OjMzKzAwOjAwIiwibGFzdF9sb2dpbl9kYXRlIjoiMjAyNS0wMy0zMVQyMjoyMjoxMiswMDowMCIsImh0dHA6Ly9zY2hlbWFzLnhtbHNvYXAub3JnL3dzLzIwMDUvMDUvaWRlbnRpdHkvY2xhaW1zL2VtYWlsYWRkcmVzcyI6ImthbndhcnZpcms3ODlAZ21haWwuY29tIiwiZW1haWwiOiJrYW53YXJ2aXJrNzg5QGdtYWlsLmNvbSIsImVtYWlsX3ZlcmlmaWVkIjp0cnVlLCJzY29wZSI6WyJvcGVuaWQiLCJwcm9maWxlIiwib2ZmbGluZV9hY2Nlc3MiXSwiYW1yIjpbInB3ZCJdfQ.RhkFXGaNHqL4PYNJH7r4nLePqCebQM_ipcqXW4_ORCapKrOC5A6yio1_gzPgWSwfYYd25PyB2wmQPIJdwSRzBjTAVmS-OpSKZq5eYvaw3UiM9cVXi0ypenjrZEpOEFnioJVd7XoicGxtsqoe1dDQmn_jB61HK8gNAGF4h1YttBkU3xIh1vaPm_DJpXgWPPkVNdvhwzRRVjMzRD-FXMYk6-xcuVqxmMz4TBqhcUYq9wtsMYBYbV1DpfhOQEMrcGb6ntnlqbKDmhbKkKx1vcYgRFzE7gSDNh3XlOnQVtIowasCQbd5ZIIhBS1zD6xuY0rBYagyklmY42RM2Q87R5xoog\",\"token_type\":\"Bearer\",\"expires_in\":\"86400\",\"refresh_token\":\"RlxxGPBoreMLVHUO_nXnCK7RJL2wH0MPm8hIVXh_R7E\"}\n",
      "Access Token: eyJhbGciOiJSUzI1NiIsImtpZCI6ImdXS3hWc0F4SHhaMDlDcWh6NkNJb3ciLCJ0eXAiOiJhdCtqd3QifQ.eyJuYmYiOjE3NDM0NjA0MjgsImV4cCI6MTc0MzU0NjgyOCwiaXNzIjoiaHR0cHM6Ly9pZGVudGl0eS5vY3RvcGFyc2UuY29tIiwiY2xpZW50X2lkIjoiT3BlbkFwaSIsInN1YiI6IjhhNzFiNmNiLWU0NjEtNGU2MC05NDY4LWI4YjQ0YjFmNzdmZSIsImF1dGhfdGltZSI6MTc0MzQ2MDQyOCwiaWRwIjoibG9jYWwiLCJodHRwOi8vc2NoZW1hcy54bWxzb2FwLm9yZy93cy8yMDA1LzA1L2lkZW50aXR5L2NsYWltcy9uYW1laWRlbnRpZmllciI6IjhhNzFiNmNiLWU0NjEtNGU2MC05NDY4LWI4YjQ0YjFmNzdmZSIsImh0dHA6Ly9zY2hlbWFzLnhtbHNvYXAub3JnL3dzLzIwMDUvMDUvaWRlbnRpdHkvY2xhaW1zL25hbWUiOiJLYW53YXJqZWV0IiwicHJlZmVycmVkX3VzZXJuYW1lIjoiS2Fud2FyamVldCIsInVuaXF1ZV9uYW1lIjoiS2Fud2FyamVldCIsInJlZ2lzdGVyX2RhdGUiOiIyMDI1LTAzLTMwVDE2OjI0OjMzKzAwOjAwIiwibGFzdF9sb2dpbl9kYXRlIjoiMjAyNS0wMy0zMVQyMjoyMjoxMiswMDowMCIsImh0dHA6Ly9zY2hlbWFzLnhtbHNvYXAub3JnL3dzLzIwMDUvMDUvaWRlbnRpdHkvY2xhaW1zL2VtYWlsYWRkcmVzcyI6ImthbndhcnZpcms3ODlAZ21haWwuY29tIiwiZW1haWwiOiJrYW53YXJ2aXJrNzg5QGdtYWlsLmNvbSIsImVtYWlsX3ZlcmlmaWVkIjp0cnVlLCJzY29wZSI6WyJvcGVuaWQiLCJwcm9maWxlIiwib2ZmbGluZV9hY2Nlc3MiXSwiYW1yIjpbInB3ZCJdfQ.RhkFXGaNHqL4PYNJH7r4nLePqCebQM_ipcqXW4_ORCapKrOC5A6yio1_gzPgWSwfYYd25PyB2wmQPIJdwSRzBjTAVmS-OpSKZq5eYvaw3UiM9cVXi0ypenjrZEpOEFnioJVd7XoicGxtsqoe1dDQmn_jB61HK8gNAGF4h1YttBkU3xIh1vaPm_DJpXgWPPkVNdvhwzRRVjMzRD-FXMYk6-xcuVqxmMz4TBqhcUYq9wtsMYBYbV1DpfhOQEMrcGb6ntnlqbKDmhbKkKx1vcYgRFzE7gSDNh3XlOnQVtIowasCQbd5ZIIhBS1zD6xuY0rBYagyklmY42RM2Q87R5xoog\n"
     ]
    }
   ],
   "source": [
    "\n",
    "\n",
    "# Octoparse Auth API URL\n",
    "auth_url = \"https://dataapi.octoparse.com/token\"\n",
    "\n",
    "#  Send as form data (not JSON)\n",
    "payload = {\n",
    "    \"username\": username,\n",
    "    \"password\": password,\n",
    "    \"grant_type\": \"password\"\n",
    "}\n",
    "\n",
    "headers = {\n",
    "    \"Content-Type\": \"application/x-www-form-urlencoded\"\n",
    "}\n",
    "\n",
    "# Request access token\n",
    "auth_response = requests.post(auth_url, data=payload, headers=headers)\n",
    "\n",
    "# Print full response to verify\n",
    "print(\"Raw Response:\", auth_response.text)\n",
    "\n",
    "# Extract token if successful\n",
    "token = auth_response.json().get(\"access_token\")\n",
    "print(\"Access Token:\", token)\n",
    "\n",
    "\n"
   ]
  },
  {
   "cell_type": "code",
   "execution_count": null,
   "metadata": {},
   "outputs": [],
   "source": [
    "#last prompt- create custom task for indeed scrapper  "
   ]
  },
  {
   "cell_type": "code",
   "execution_count": null,
   "metadata": {},
   "outputs": [
    {
     "name": "stdout",
     "output_type": "stream",
     "text": [
      "✅ Authenticated.\n",
      "🚀 Task started...\n",
      " Empty response from status check, retrying...\n",
      " Empty response from status check, retrying...\n",
      " Empty response from status check, retrying...\n",
      " Empty response from status check, retrying...\n",
      " Empty response from status check, retrying...\n",
      " Empty response from status check, retrying...\n",
      " Empty response from status check, retrying...\n",
      " Empty response from status check, retrying...\n",
      " Empty response from status check, retrying...\n",
      " Empty response from status check, retrying...\n",
      " Empty response from status check, retrying...\n",
      " Empty response from status check, retrying...\n",
      " Empty response from status check, retrying...\n",
      " Empty response from status check, retrying...\n",
      " Empty response from status check, retrying...\n",
      " Empty response from status check, retrying...\n",
      " Empty response from status check, retrying...\n",
      " Empty response from status check, retrying...\n",
      " Empty response from status check, retrying...\n",
      " Empty response from status check, retrying...\n",
      " Empty response from status check, retrying...\n",
      " Empty response from status check, retrying...\n",
      " Empty response from status check, retrying...\n",
      " Empty response from status check, retrying...\n",
      " Empty response from status check, retrying...\n",
      " Empty response from status check, retrying...\n",
      " Empty response from status check, retrying...\n",
      " Empty response from status check, retrying...\n",
      " Empty response from status check, retrying...\n",
      " Empty response from status check, retrying...\n",
      " Empty response from status check, retrying...\n",
      " Empty response from status check, retrying...\n",
      " Empty response from status check, retrying...\n",
      " Empty response from status check, retrying...\n",
      " Empty response from status check, retrying...\n",
      " Empty response from status check, retrying...\n",
      " Empty response from status check, retrying...\n",
      " Empty response from status check, retrying...\n",
      " Empty response from status check, retrying...\n",
      " Empty response from status check, retrying...\n",
      " Empty response from status check, retrying...\n",
      " Empty response from status check, retrying...\n",
      " Empty response from status check, retrying...\n",
      " Empty response from status check, retrying...\n",
      " Empty response from status check, retrying...\n",
      " Empty response from status check, retrying...\n",
      " Empty response from status check, retrying...\n",
      " Empty response from status check, retrying...\n",
      " Empty response from status check, retrying...\n",
      " Empty response from status check, retrying...\n",
      " Empty response from status check, retrying...\n",
      " Empty response from status check, retrying...\n",
      " Empty response from status check, retrying...\n",
      " Empty response from status check, retrying...\n",
      " Empty response from status check, retrying...\n",
      " Empty response from status check, retrying...\n",
      " Empty response from status check, retrying...\n",
      " Empty response from status check, retrying...\n"
     ]
    }
   ],
   "source": [
    "import requests\n",
    "import time\n",
    "import pandas as pd\n",
    "from datetime import datetime\n",
    "\n",
    "\n",
    "# task ID\n",
    "task_id = \"9c5bd328-1f0e-2641-7351-ddb8a4925f01\"\n",
    "\n",
    "# === Step 1: Authenticate and get token ===\n",
    "auth_url = \"https://dataapi.octoparse.com/token\"\n",
    "payload = {\n",
    "    \"username\": username,\n",
    "    \"password\": password,\n",
    "    \"grant_type\": \"password\"\n",
    "}\n",
    "headers = {\"Content-Type\": \"application/x-www-form-urlencoded\"}\n",
    "auth_response = requests.post(auth_url, data=payload, headers=headers)\n",
    "token = auth_response.json().get(\"access_token\")\n",
    "headers = {\"Authorization\": f\"Bearer {token}\"}\n",
    "print(\"Authenticated.\")\n",
    "\n",
    "\n",
    "# === Step 2: Start the Task ===\n",
    "start_url = f\"https://dataapi.octoparse.com/api/task/start/{task_id}\"\n",
    "requests.post(start_url, headers=headers)\n",
    "print(\" Task started...\")\n",
    "\n",
    "#import time\n",
    "\n",
    "status_url = f\"https://dataapi.octoparse.com/api/task/getexecutionstatus/{task_id}\"\n",
    "\n",
    "#  Wait for completion\n",
    "while True:\n",
    "    status_response = requests.get(status_url, headers=headers)\n",
    "    \n",
    "    # Handle empty or bad status response\n",
    "    if not status_response.text.strip():\n",
    "        print(\" Empty response from status check, retrying...\")\n",
    "        time.sleep(2)\n",
    "        continue\n",
    "\n",
    "    try:\n",
    "        status = status_response.json().get(\"data\", {}).get(\"status\", \"\")\n",
    "    except Exception as e:\n",
    "        print(\" Failed to parse status response:\", e)\n",
    "        print(\" Raw:\", status_response.text[:300])\n",
    "        break\n",
    "\n",
    "    print(\"Current task status:\", status)\n",
    "    if status == \"Completed\":\n",
    "        print(\" Task finished.\")\n",
    "        break\n",
    "    elif status == \"Failed\":\n",
    "        print(\" Task failed.\")\n",
    "        exit()\n",
    "\n",
    "    time.sleep(10)\n"
   ]
  },
  {
   "cell_type": "code",
   "execution_count": null,
   "metadata": {},
   "outputs": [],
   "source": [
    "#"
   ]
  }
 ],
 "metadata": {
  "kernelspec": {
   "display_name": "Python 3",
   "language": "python",
   "name": "python3"
  },
  "language_info": {
   "codemirror_mode": {
    "name": "ipython",
    "version": 3
   },
   "file_extension": ".py",
   "mimetype": "text/x-python",
   "name": "python",
   "nbconvert_exporter": "python",
   "pygments_lexer": "ipython3",
   "version": "3.11.8"
  }
 },
 "nbformat": 4,
 "nbformat_minor": 2
}
